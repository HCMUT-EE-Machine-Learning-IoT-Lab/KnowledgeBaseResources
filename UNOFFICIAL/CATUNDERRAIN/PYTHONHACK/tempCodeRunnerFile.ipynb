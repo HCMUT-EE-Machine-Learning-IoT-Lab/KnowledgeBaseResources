print(id(1))
print(id(2))
print(id(3))
a = 2
print(id(a))
b = a

print(id(b))
a = 3
print(id(b))